{
 "cells": [
  {
   "cell_type": "code",
   "execution_count": 1,
   "id": "376c47df-7e81-46e1-9d27-7b96f7ecc9d1",
   "metadata": {},
   "outputs": [],
   "source": [
    "from langchain.llms import OpenAI\n",
    "from langchain import PromptTemplate, LLMChain\n",
    "from langchain.chains import RetrievalQA\n",
    "from langchain.document_loaders import PyPDFLoader\n",
    "from langchain.document_loaders import DirectoryLoader\n",
    "from langchain.embeddings import HuggingFaceEmbeddings\n",
    "from langchain.vectorstores import Chroma\n",
    "from langchain.text_splitter import RecursiveCharacterTextSplitter\n",
    "from langchain.callbacks.streaming_stdout import StreamingStdOutCallbackHandler\n",
    "from langchain.prompts import PromptTemplate\n",
    "import sentence_transformers\n",
    "import os\n",
    "\n",
    "os.environ[\"OPENAI_API_KEY\"] = \"EMPTY\"\n",
    "os.environ[\"OPENAI_API_BASE\"] = os.environ[\"LLM_API_SERVER_BASE\"]\n",
    "model = os.environ[\"LLM_LOADED\"]"
   ]
  },
  {
   "cell_type": "code",
   "execution_count": 50,
   "id": "23939824-4191-4d45-b042-cbe441b139fb",
   "metadata": {},
   "outputs": [],
   "source": [
    "llm = OpenAI(model=model,logit_bias=None, max_tokens=30, temperature=0.1, streaming=True, callbacks=[StreamingStdOutCallbackHandler()])"
   ]
  },
  {
   "cell_type": "code",
   "execution_count": 3,
   "id": "6f00445f-bc3f-4999-9840-21aaeafaf20d",
   "metadata": {},
   "outputs": [],
   "source": [
    "model_name = \"intfloat/e5-large-v2\"\n",
    "\n",
    "hf = HuggingFaceEmbeddings(model_name=model_name)"
   ]
  },
  {
   "cell_type": "code",
   "execution_count": 4,
   "id": "13f6a6a6-8071-4766-a272-70769835ee72",
   "metadata": {},
   "outputs": [],
   "source": [
    "#loader = PyPDFLoader(\"../data/iceberg-overview.pdf\")\n",
    "loader = PyPDFLoader(\"../data/PT-Bank-Central-Asia-Tbk.pdf\")\n",
    "pages = loader.load_and_split()\n",
    "text_splitter = RecursiveCharacterTextSplitter(chunk_size=1000, chunk_overlap=200)\n",
    "texts = text_splitter.split_documents(pages)"
   ]
  },
  {
   "cell_type": "code",
   "execution_count": 5,
   "id": "697647f8-6cb1-4ee4-a1ba-62484c6d9f9c",
   "metadata": {},
   "outputs": [],
   "source": [
    "__import__('pysqlite3')\n",
    "import sys\n",
    "sys.modules['sqlite3'] = sys.modules.pop('pysqlite3')"
   ]
  },
  {
   "cell_type": "code",
   "execution_count": 6,
   "id": "3146462f-7d9a-4729-8317-d5caec81b06c",
   "metadata": {},
   "outputs": [],
   "source": [
    "embedding = hf \n",
    "vectordb = Chroma.from_documents(documents=texts,\n",
    "                                 embedding=embedding,\n",
    "                                 persist_directory='db'\n",
    "                                 )\n",
    "\n",
    "retriever = vectordb.as_retriever()"
   ]
  },
  {
   "cell_type": "code",
   "execution_count": 57,
   "id": "5865ba73-11f1-4e2d-a704-4a98c1e0e98d",
   "metadata": {
    "tags": []
   },
   "outputs": [],
   "source": [
    "prompt_template = \"\"\"Use the following pieces of context to answer the question at the end. If you don't know the answer, just say that you don't know, don't try to make up an answer.\n",
    "Answer in a short and concise manner\n",
    "{context}\n",
    "\n",
    "Question: {question}\"\"\"\n",
    "PROMPT = PromptTemplate(\n",
    "    template=prompt_template, input_variables=[\"context\", \"question\"]\n",
    ")"
   ]
  },
  {
   "cell_type": "code",
   "execution_count": 58,
   "id": "bce2d425-a898-42be-b5fc-54fd56e98a62",
   "metadata": {
    "tags": []
   },
   "outputs": [],
   "source": [
    "chain_type_kwargs = {\"prompt\": PROMPT}\n",
    "qa = RetrievalQA.from_chain_type(llm=llm, chain_type=\"stuff\", retriever=retriever, chain_type_kwargs=chain_type_kwargs)"
   ]
  },
  {
   "cell_type": "code",
   "execution_count": 59,
   "id": "1214d522-7b78-40b6-8837-ef7833ba04c5",
   "metadata": {
    "tags": []
   },
   "outputs": [
    {
     "name": "stdout",
     "output_type": "stream",
     "text": [
      "\n",
      "\n",
      "Answer: Rp 1.029,83 Trillion (USD 68,5 Billion)\n",
      "CPU times: user 32.5 s, sys: 163 ms, total: 32.6 s\n",
      "Wall time: 3.4 s\n"
     ]
    }
   ],
   "source": [
    "%%time\n",
    "#query = \"What is apache iceberg?\"\n",
    "query = \"How big is BCA assset?\"\n",
    "llm_response = qa.run(query)"
   ]
  },
  {
   "cell_type": "code",
   "execution_count": null,
   "id": "8d26c580-e90b-4de6-b5e0-1e5b1544df21",
   "metadata": {},
   "outputs": [],
   "source": []
  }
 ],
 "metadata": {
  "kernelspec": {
   "display_name": "Python 3 (ipykernel)",
   "language": "python",
   "name": "python3"
  },
  "language_info": {
   "codemirror_mode": {
    "name": "ipython",
    "version": 3
   },
   "file_extension": ".py",
   "mimetype": "text/x-python",
   "name": "python",
   "nbconvert_exporter": "python",
   "pygments_lexer": "ipython3",
   "version": "3.10.9"
  }
 },
 "nbformat": 4,
 "nbformat_minor": 5
}
