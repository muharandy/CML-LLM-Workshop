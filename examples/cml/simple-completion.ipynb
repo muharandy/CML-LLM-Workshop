{
 "cells": [
  {
   "cell_type": "markdown",
   "id": "ff0c6800-74de-4a05-b424-ef7b391d02c4",
   "metadata": {},
   "source": [
    "## Using Completion API on a notebook\n",
    "\n",
    "Now that you have seen what you can do with a privately hosted LLM model, we will start learning from the basic: accessing the LLM REST API from a notebook.\n",
    "\n",
    "Start a notebook session and install openai client library. We are not using OpenAI service here, we are just using their client library to hit our privately hosted LLM server."
   ]
  },
  {
   "cell_type": "code",
   "execution_count": 1,
   "id": "29ecae34-135f-43ba-aa00-2b33e2aaca6c",
   "metadata": {
    "tags": []
   },
   "outputs": [],
   "source": [
    "!pip install -q openai"
   ]
  },
  {
   "cell_type": "markdown",
   "id": "ea628714-7c02-4b50-9c21-bbcaef650b45",
   "metadata": {},
   "source": [
    "Next we will start with setting up the required environment variables to access our privately hosted LLM server."
   ]
  },
  {
   "cell_type": "code",
   "execution_count": 2,
   "id": "72502bb0-4558-40b9-9208-6bc5682672ee",
   "metadata": {
    "tags": []
   },
   "outputs": [],
   "source": [
    "import openai\n",
    "import os\n",
    "\n",
    "# Modify OpenAI's API key, API base, model accordingly.\n",
    "#os.environ['OPENAI_API_KEY']=\"sk-111111111111111111111111111111111111111111111111\"\n",
    "#os.environ['OPENAI_API_BASE']=os.environ[\"LLM_API_SERVER_BASE\"]\n",
    "openai.api_key = \"sk-111111111111111111111111111111111111111111111111\"\n",
    "openai.api_base = os.environ[\"LLM_API_SERVER_BASE\"]\n",
    "model = \"x\""
   ]
  },
  {
   "cell_type": "code",
   "execution_count": null,
   "id": "3445bd51-9cdd-49f1-86fe-6336f1cc1eeb",
   "metadata": {},
   "outputs": [],
   "source": []
  }
 ],
 "metadata": {
  "kernelspec": {
   "display_name": "Python 3 (ipykernel)",
   "language": "python",
   "name": "python3"
  },
  "language_info": {
   "codemirror_mode": {
    "name": "ipython",
    "version": 3
   },
   "file_extension": ".py",
   "mimetype": "text/x-python",
   "name": "python",
   "nbconvert_exporter": "python",
   "pygments_lexer": "ipython3",
   "version": "3.10.9"
  }
 },
 "nbformat": 4,
 "nbformat_minor": 5
}
